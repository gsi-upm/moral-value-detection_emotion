{
 "cells": [
  {
   "cell_type": "code",
   "execution_count": 1,
   "id": "9853eca3-aab0-4161-b949-98fcf31f5707",
   "metadata": {},
   "outputs": [],
   "source": [
    "import pandas as pd\n",
    "import numpy as np\n",
    "from imblearn.over_sampling import RandomOverSampler\n",
    "from imblearn.under_sampling import RandomUnderSampler"
   ]
  },
  {
   "cell_type": "markdown",
   "id": "80eb1515-8e85-4709-babf-557b07c1748e",
   "metadata": {},
   "source": [
    "# Under-sampling"
   ]
  },
  {
   "cell_type": "markdown",
   "id": "f6d92cc0-d8b7-4fb2-a5c3-a7f26389d4a3",
   "metadata": {},
   "source": [
    "This technique removes data from the majority class to match the amount from the minority class. \n",
    "A seed is specified so that the data removed is the same each time it is run on the same dataset and let's see if there is improvement. "
   ]
  },
  {
   "cell_type": "code",
   "execution_count": 2,
   "id": "c3f4c3d3-a1dc-48eb-94d4-e28e20602a7d",
   "metadata": {},
   "outputs": [],
   "source": [
    "def undersampling_data(df): \n",
    "    undersample = RandomUnderSampler(sampling_strategy='all', random_state=42)\n",
    "    X = df['text']\n",
    "    Y = df['label']\n",
    "    X_undersampled, Y_undersampled = undersample.fit_resample(X.values.reshape(-1, 1), Y)\n",
    "    df = pd.DataFrame({\n",
    "        'text': X_undersampled.flatten(),\n",
    "        'label': Y_undersampled})\n",
    "    return df \n",
    "    \n"
   ]
  },
  {
   "cell_type": "markdown",
   "id": "02285a7c-1279-4469-8336-95dc68bb1e73",
   "metadata": {},
   "source": [
    "# Over-sampling "
   ]
  },
  {
   "cell_type": "markdown",
   "id": "9e83c6c6-274d-4550-b015-6b9013b75eea",
   "metadata": {},
   "source": [
    "Randomly doubles the data of the minority class to equal the amount in the majority class\n",
    "-with (random_state=0.42) it exceeds the number of the majority class by half with respect to the minority one\n",
    "-with (sampling_strategy='minority) the minority class is increased to have the same amount as the majority class."
   ]
  },
  {
   "cell_type": "code",
   "execution_count": 3,
   "id": "bea9b4af-6187-4c61-b050-d8fd96f08a85",
   "metadata": {},
   "outputs": [],
   "source": [
    "def oversampling_data(df): \n",
    "    oversample = RandomOverSampler(sampling_strategy='all',random_state=42)\n",
    "    \n",
    "    X = df['text']\n",
    "    Y = df['label']\n",
    "    X_oversampled, Y_oversampled = oversample.fit_resample(X.values.reshape(-1, 1), Y)\n",
    "    df = pd.DataFrame({\n",
    "        'text': X_oversampled.flatten(),\n",
    "        'label': Y_oversampled})\n",
    "    return df \n",
    "\n"
   ]
  }
 ],
 "metadata": {
  "kernelspec": {
   "display_name": "Python 3 (ipykernel)",
   "language": "python",
   "name": "python3"
  },
  "language_info": {
   "codemirror_mode": {
    "name": "ipython",
    "version": 3
   },
   "file_extension": ".py",
   "mimetype": "text/x-python",
   "name": "python",
   "nbconvert_exporter": "python",
   "pygments_lexer": "ipython3",
   "version": "3.8.12"
  }
 },
 "nbformat": 4,
 "nbformat_minor": 5
}
